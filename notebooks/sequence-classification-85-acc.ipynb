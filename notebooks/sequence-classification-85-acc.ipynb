{
 "cells": [
  {
   "cell_type": "code",
   "execution_count": 18,
   "metadata": {
    "_cell_guid": "b1076dfc-b9ad-4769-8c92-a6c4dae69d19",
    "_uuid": "8f2839f25d086af736a60e9eeb907d3b93b6e0e5"
   },
   "outputs": [
    {
     "name": "stderr",
     "output_type": "stream",
     "text": [
      "/home/shubham/anaconda3/envs/tensorflow/lib/python3.6/site-packages/ipykernel_launcher.py:7: FutureWarning: Passing a negative integer is deprecated in version 1.0 and will not be supported in future version. Instead, use None to not limit the column width.\n",
      "  import sys\n"
     ]
    }
   ],
   "source": [
    "\n",
    "import numpy as np \n",
    "import pandas as pd\n",
    "\n",
    "import tensorflow.keras as keras\n",
    "import os\n",
    "\n",
    "pd.set_option('display.max_colwidth', -1)\n",
    "\n"
   ]
  },
  {
   "cell_type": "code",
   "execution_count": 7,
   "metadata": {
    "_cell_guid": "79c7e3d0-c299-4dcb-8224-4455121ee9b0",
    "_uuid": "d629ff2d2480ee46fbb7e2d37f6b5fab8052498a"
   },
   "outputs": [],
   "source": [
    "from tensorflow.keras.datasets import imdb\n",
    "from tensorflow.keras.models import Sequential\n",
    "from tensorflow.keras.layers import Dense, LSTM, Conv1D, MaxPooling1D, Conv1D, Dropout, Embedding\n",
    "from tensorflow.keras.preprocessing import sequence\n",
    "from sklearn.model_selection import train_test_split"
   ]
  },
  {
   "cell_type": "code",
   "execution_count": 8,
   "metadata": {},
   "outputs": [
    {
     "name": "stdout",
     "output_type": "stream",
     "text": [
      "<class 'pandas.core.frame.DataFrame'>\n",
      "RangeIndex: 50000 entries, 0 to 49999\n",
      "Data columns (total 2 columns):\n",
      " #   Column     Non-Null Count  Dtype \n",
      "---  ------     --------------  ----- \n",
      " 0   review     50000 non-null  object\n",
      " 1   sentiment  50000 non-null  object\n",
      "dtypes: object(2)\n",
      "memory usage: 781.4+ KB\n"
     ]
    }
   ],
   "source": [
    "df = pd.read_csv('../data/IMDB Dataset.csv')\n",
    "df.info()"
   ]
  },
  {
   "cell_type": "code",
   "execution_count": 9,
   "metadata": {},
   "outputs": [
    {
     "data": {
      "text/html": [
       "<div>\n",
       "<style scoped>\n",
       "    .dataframe tbody tr th:only-of-type {\n",
       "        vertical-align: middle;\n",
       "    }\n",
       "\n",
       "    .dataframe tbody tr th {\n",
       "        vertical-align: top;\n",
       "    }\n",
       "\n",
       "    .dataframe thead th {\n",
       "        text-align: right;\n",
       "    }\n",
       "</style>\n",
       "<table border=\"1\" class=\"dataframe\">\n",
       "  <thead>\n",
       "    <tr style=\"text-align: right;\">\n",
       "      <th></th>\n",
       "      <th>review</th>\n",
       "      <th>sentiment</th>\n",
       "    </tr>\n",
       "  </thead>\n",
       "  <tbody>\n",
       "    <tr>\n",
       "      <th>0</th>\n",
       "      <td>One of the other reviewers has mentioned that after watching just 1 Oz episode you'll be hooked. They are right, as this is exactly what happened with me.&lt;br /&gt;&lt;br /&gt;The first thing that struck me about Oz was its brutality and unflinching scenes of violence, which set in right from the word GO. Trust me, this is not a show for the faint hearted or timid. This show pulls no punches with regards to drugs, sex or violence. Its is hardcore, in the classic use of the word.&lt;br /&gt;&lt;br /&gt;It is called OZ as that is the nickname given to the Oswald Maximum Security State Penitentary. It focuses mainly on Emerald City, an experimental section of the prison where all the cells have glass fronts and face inwards, so privacy is not high on the agenda. Em City is home to many..Aryans, Muslims, gangstas, Latinos, Christians, Italians, Irish and more....so scuffles, death stares, dodgy dealings and shady agreements are never far away.&lt;br /&gt;&lt;br /&gt;I would say the main appeal of the show is due to the fact that it goes where other shows wouldn't dare. Forget pretty pictures painted for mainstream audiences, forget charm, forget romance...OZ doesn't mess around. The first episode I ever saw struck me as so nasty it was surreal, I couldn't say I was ready for it, but as I watched more, I developed a taste for Oz, and got accustomed to the high levels of graphic violence. Not just violence, but injustice (crooked guards who'll be sold out for a nickel, inmates who'll kill on order and get away with it, well mannered, middle class inmates being turned into prison bitches due to their lack of street skills or prison experience) Watching Oz, you may become comfortable with what is uncomfortable viewing....thats if you can get in touch with your darker side.</td>\n",
       "      <td>positive</td>\n",
       "    </tr>\n",
       "    <tr>\n",
       "      <th>1</th>\n",
       "      <td>A wonderful little production. &lt;br /&gt;&lt;br /&gt;The filming technique is very unassuming- very old-time-BBC fashion and gives a comforting, and sometimes discomforting, sense of realism to the entire piece. &lt;br /&gt;&lt;br /&gt;The actors are extremely well chosen- Michael Sheen not only \"has got all the polari\" but he has all the voices down pat too! You can truly see the seamless editing guided by the references to Williams' diary entries, not only is it well worth the watching but it is a terrificly written and performed piece. A masterful production about one of the great master's of comedy and his life. &lt;br /&gt;&lt;br /&gt;The realism really comes home with the little things: the fantasy of the guard which, rather than use the traditional 'dream' techniques remains solid then disappears. It plays on our knowledge and our senses, particularly with the scenes concerning Orton and Halliwell and the sets (particularly of their flat with Halliwell's murals decorating every surface) are terribly well done.</td>\n",
       "      <td>positive</td>\n",
       "    </tr>\n",
       "    <tr>\n",
       "      <th>2</th>\n",
       "      <td>I thought this was a wonderful way to spend time on a too hot summer weekend, sitting in the air conditioned theater and watching a light-hearted comedy. The plot is simplistic, but the dialogue is witty and the characters are likable (even the well bread suspected serial killer). While some may be disappointed when they realize this is not Match Point 2: Risk Addiction, I thought it was proof that Woody Allen is still fully in control of the style many of us have grown to love.&lt;br /&gt;&lt;br /&gt;This was the most I'd laughed at one of Woody's comedies in years (dare I say a decade?). While I've never been impressed with Scarlet Johanson, in this she managed to tone down her \"sexy\" image and jumped right into a average, but spirited young woman.&lt;br /&gt;&lt;br /&gt;This may not be the crown jewel of his career, but it was wittier than \"Devil Wears Prada\" and more interesting than \"Superman\" a great comedy to go see with friends.</td>\n",
       "      <td>positive</td>\n",
       "    </tr>\n",
       "    <tr>\n",
       "      <th>3</th>\n",
       "      <td>Basically there's a family where a little boy (Jake) thinks there's a zombie in his closet &amp; his parents are fighting all the time.&lt;br /&gt;&lt;br /&gt;This movie is slower than a soap opera... and suddenly, Jake decides to become Rambo and kill the zombie.&lt;br /&gt;&lt;br /&gt;OK, first of all when you're going to make a film you must Decide if its a thriller or a drama! As a drama the movie is watchable. Parents are divorcing &amp; arguing like in real life. And then we have Jake with his closet which totally ruins all the film! I expected to see a BOOGEYMAN similar movie, and instead i watched a drama with some meaningless thriller spots.&lt;br /&gt;&lt;br /&gt;3 out of 10 just for the well playing parents &amp; descent dialogs. As for the shots with Jake: just ignore them.</td>\n",
       "      <td>negative</td>\n",
       "    </tr>\n",
       "    <tr>\n",
       "      <th>4</th>\n",
       "      <td>Petter Mattei's \"Love in the Time of Money\" is a visually stunning film to watch. Mr. Mattei offers us a vivid portrait about human relations. This is a movie that seems to be telling us what money, power and success do to people in the different situations we encounter. &lt;br /&gt;&lt;br /&gt;This being a variation on the Arthur Schnitzler's play about the same theme, the director transfers the action to the present time New York where all these different characters meet and connect. Each one is connected in one way, or another to the next person, but no one seems to know the previous point of contact. Stylishly, the film has a sophisticated luxurious look. We are taken to see how these people live and the world they live in their own habitat.&lt;br /&gt;&lt;br /&gt;The only thing one gets out of all these souls in the picture is the different stages of loneliness each one inhabits. A big city is not exactly the best place in which human relations find sincere fulfillment, as one discerns is the case with most of the people we encounter.&lt;br /&gt;&lt;br /&gt;The acting is good under Mr. Mattei's direction. Steve Buscemi, Rosario Dawson, Carol Kane, Michael Imperioli, Adrian Grenier, and the rest of the talented cast, make these characters come alive.&lt;br /&gt;&lt;br /&gt;We wish Mr. Mattei good luck and await anxiously for his next work.</td>\n",
       "      <td>positive</td>\n",
       "    </tr>\n",
       "  </tbody>\n",
       "</table>\n",
       "</div>"
      ],
      "text/plain": [
       "                                                                                                                                                                                                                                                                                                                                                                                                                                                                                                                                                                                                                                                                                                                                                                                                                                                                                                                                                                                                                                                                                                                                                                                                                                                                                                                                                                                                                                                                                                                                                                                                                                                                                                                                                                                                                              review  \\\n",
       "0  One of the other reviewers has mentioned that after watching just 1 Oz episode you'll be hooked. They are right, as this is exactly what happened with me.<br /><br />The first thing that struck me about Oz was its brutality and unflinching scenes of violence, which set in right from the word GO. Trust me, this is not a show for the faint hearted or timid. This show pulls no punches with regards to drugs, sex or violence. Its is hardcore, in the classic use of the word.<br /><br />It is called OZ as that is the nickname given to the Oswald Maximum Security State Penitentary. It focuses mainly on Emerald City, an experimental section of the prison where all the cells have glass fronts and face inwards, so privacy is not high on the agenda. Em City is home to many..Aryans, Muslims, gangstas, Latinos, Christians, Italians, Irish and more....so scuffles, death stares, dodgy dealings and shady agreements are never far away.<br /><br />I would say the main appeal of the show is due to the fact that it goes where other shows wouldn't dare. Forget pretty pictures painted for mainstream audiences, forget charm, forget romance...OZ doesn't mess around. The first episode I ever saw struck me as so nasty it was surreal, I couldn't say I was ready for it, but as I watched more, I developed a taste for Oz, and got accustomed to the high levels of graphic violence. Not just violence, but injustice (crooked guards who'll be sold out for a nickel, inmates who'll kill on order and get away with it, well mannered, middle class inmates being turned into prison bitches due to their lack of street skills or prison experience) Watching Oz, you may become comfortable with what is uncomfortable viewing....thats if you can get in touch with your darker side.   \n",
       "1  A wonderful little production. <br /><br />The filming technique is very unassuming- very old-time-BBC fashion and gives a comforting, and sometimes discomforting, sense of realism to the entire piece. <br /><br />The actors are extremely well chosen- Michael Sheen not only \"has got all the polari\" but he has all the voices down pat too! You can truly see the seamless editing guided by the references to Williams' diary entries, not only is it well worth the watching but it is a terrificly written and performed piece. A masterful production about one of the great master's of comedy and his life. <br /><br />The realism really comes home with the little things: the fantasy of the guard which, rather than use the traditional 'dream' techniques remains solid then disappears. It plays on our knowledge and our senses, particularly with the scenes concerning Orton and Halliwell and the sets (particularly of their flat with Halliwell's murals decorating every surface) are terribly well done.                                                                                                                                                                                                                                                                                                                                                                                                                                                                                                                                                                                                                                                                                                                                                                                              \n",
       "2  I thought this was a wonderful way to spend time on a too hot summer weekend, sitting in the air conditioned theater and watching a light-hearted comedy. The plot is simplistic, but the dialogue is witty and the characters are likable (even the well bread suspected serial killer). While some may be disappointed when they realize this is not Match Point 2: Risk Addiction, I thought it was proof that Woody Allen is still fully in control of the style many of us have grown to love.<br /><br />This was the most I'd laughed at one of Woody's comedies in years (dare I say a decade?). While I've never been impressed with Scarlet Johanson, in this she managed to tone down her \"sexy\" image and jumped right into a average, but spirited young woman.<br /><br />This may not be the crown jewel of his career, but it was wittier than \"Devil Wears Prada\" and more interesting than \"Superman\" a great comedy to go see with friends.                                                                                                                                                                                                                                                                                                                                                                                                                                                                                                                                                                                                                                                                                                                                                                                                                                                                      \n",
       "3  Basically there's a family where a little boy (Jake) thinks there's a zombie in his closet & his parents are fighting all the time.<br /><br />This movie is slower than a soap opera... and suddenly, Jake decides to become Rambo and kill the zombie.<br /><br />OK, first of all when you're going to make a film you must Decide if its a thriller or a drama! As a drama the movie is watchable. Parents are divorcing & arguing like in real life. And then we have Jake with his closet which totally ruins all the film! I expected to see a BOOGEYMAN similar movie, and instead i watched a drama with some meaningless thriller spots.<br /><br />3 out of 10 just for the well playing parents & descent dialogs. As for the shots with Jake: just ignore them.                                                                                                                                                                                                                                                                                                                                                                                                                                                                                                                                                                                                                                                                                                                                                                                                                                                                                                                                                                                                                                                        \n",
       "4  Petter Mattei's \"Love in the Time of Money\" is a visually stunning film to watch. Mr. Mattei offers us a vivid portrait about human relations. This is a movie that seems to be telling us what money, power and success do to people in the different situations we encounter. <br /><br />This being a variation on the Arthur Schnitzler's play about the same theme, the director transfers the action to the present time New York where all these different characters meet and connect. Each one is connected in one way, or another to the next person, but no one seems to know the previous point of contact. Stylishly, the film has a sophisticated luxurious look. We are taken to see how these people live and the world they live in their own habitat.<br /><br />The only thing one gets out of all these souls in the picture is the different stages of loneliness each one inhabits. A big city is not exactly the best place in which human relations find sincere fulfillment, as one discerns is the case with most of the people we encounter.<br /><br />The acting is good under Mr. Mattei's direction. Steve Buscemi, Rosario Dawson, Carol Kane, Michael Imperioli, Adrian Grenier, and the rest of the talented cast, make these characters come alive.<br /><br />We wish Mr. Mattei good luck and await anxiously for his next work.                                                                                                                                                                                                                                                                                                                                                                                                                                                               \n",
       "\n",
       "  sentiment  \n",
       "0  positive  \n",
       "1  positive  \n",
       "2  positive  \n",
       "3  negative  \n",
       "4  positive  "
      ]
     },
     "execution_count": 9,
     "metadata": {},
     "output_type": "execute_result"
    }
   ],
   "source": [
    "df.head()"
   ]
  },
  {
   "cell_type": "code",
   "execution_count": 10,
   "metadata": {},
   "outputs": [
    {
     "name": "stdout",
     "output_type": "stream",
     "text": [
      "(35000, 2)\n",
      "(15000, 2)\n"
     ]
    }
   ],
   "source": [
    "df_train, df_test = train_test_split(df, test_size=0.3)\n",
    "print(df_train.shape)\n",
    "print(df_test.shape)"
   ]
  },
  {
   "cell_type": "code",
   "execution_count": 11,
   "metadata": {},
   "outputs": [
    {
     "name": "stderr",
     "output_type": "stream",
     "text": [
      "/home/shubham/anaconda3/envs/tensorflow/lib/python3.6/site-packages/ipykernel_launcher.py:1: SettingWithCopyWarning: \n",
      "A value is trying to be set on a copy of a slice from a DataFrame.\n",
      "Try using .loc[row_indexer,col_indexer] = value instead\n",
      "\n",
      "See the caveats in the documentation: https://pandas.pydata.org/pandas-docs/stable/user_guide/indexing.html#returning-a-view-versus-a-copy\n",
      "  \"\"\"Entry point for launching an IPython kernel.\n",
      "/home/shubham/anaconda3/envs/tensorflow/lib/python3.6/site-packages/ipykernel_launcher.py:2: SettingWithCopyWarning: \n",
      "A value is trying to be set on a copy of a slice from a DataFrame.\n",
      "Try using .loc[row_indexer,col_indexer] = value instead\n",
      "\n",
      "See the caveats in the documentation: https://pandas.pydata.org/pandas-docs/stable/user_guide/indexing.html#returning-a-view-versus-a-copy\n",
      "  \n"
     ]
    }
   ],
   "source": [
    "df_train['sentiment'] = df_train['sentiment'].apply(lambda x: 1 if x=='positive' else 0)\n",
    "df_test['sentiment'] = df_test['sentiment'].apply(lambda x: 1 if x=='positive' else 0)"
   ]
  },
  {
   "cell_type": "code",
   "execution_count": 12,
   "metadata": {},
   "outputs": [
    {
     "name": "stderr",
     "output_type": "stream",
     "text": [
      "/home/shubham/anaconda3/envs/tensorflow/lib/python3.6/site-packages/ipykernel_launcher.py:1: SettingWithCopyWarning: \n",
      "A value is trying to be set on a copy of a slice from a DataFrame.\n",
      "Try using .loc[row_indexer,col_indexer] = value instead\n",
      "\n",
      "See the caveats in the documentation: https://pandas.pydata.org/pandas-docs/stable/user_guide/indexing.html#returning-a-view-versus-a-copy\n",
      "  \"\"\"Entry point for launching an IPython kernel.\n",
      "/home/shubham/anaconda3/envs/tensorflow/lib/python3.6/site-packages/ipykernel_launcher.py:2: SettingWithCopyWarning: \n",
      "A value is trying to be set on a copy of a slice from a DataFrame.\n",
      "Try using .loc[row_indexer,col_indexer] = value instead\n",
      "\n",
      "See the caveats in the documentation: https://pandas.pydata.org/pandas-docs/stable/user_guide/indexing.html#returning-a-view-versus-a-copy\n",
      "  \n"
     ]
    }
   ],
   "source": [
    "df_train['review'] = df_train['review'].str.replace('<br />', '')\n",
    "df_test['review'] = df_test['review'].str.replace('<br />', '')\n"
   ]
  },
  {
   "cell_type": "code",
   "execution_count": 13,
   "metadata": {},
   "outputs": [
    {
     "data": {
      "text/html": [
       "<div>\n",
       "<style scoped>\n",
       "    .dataframe tbody tr th:only-of-type {\n",
       "        vertical-align: middle;\n",
       "    }\n",
       "\n",
       "    .dataframe tbody tr th {\n",
       "        vertical-align: top;\n",
       "    }\n",
       "\n",
       "    .dataframe thead th {\n",
       "        text-align: right;\n",
       "    }\n",
       "</style>\n",
       "<table border=\"1\" class=\"dataframe\">\n",
       "  <thead>\n",
       "    <tr style=\"text-align: right;\">\n",
       "      <th></th>\n",
       "      <th>review</th>\n",
       "      <th>sentiment</th>\n",
       "    </tr>\n",
       "  </thead>\n",
       "  <tbody>\n",
       "    <tr>\n",
       "      <th>37028</th>\n",
       "      <td>Man has been to the farthest reaches of the earth and now he is traveling to new worlds. But with new worlds come ancient evils... the vampires of space. And not just a handful but entire tribes. In this film (which I saw as \"Bloodsuckers\" but I guess also goes as \"Vampires Wars\") we see what happens when the imperialist earthlings meet the imperialist vampires.I will make this review very short because it's undeserving of a good review. The best I can say for this film is it has a good cast of b-list and upcoming stars. Natassia Malthe was Quintana, and was far more attractive here than in \"Bloodrayne 2\". Michael Ironside is Muco, and is always a fan favorite (as I say, he's the poor man's Jack Nicholson). And we even get Carrie-Ann Fleming as \"Damian's wife\", who horror fans will now recognize as the eponymous Jenifer from Dario Argento's \"Jenifer\". So this movie, as bad as it is, isn't without some names attached... but the same can be said of Uwe Boll's work.The concept of the military tracking and killing vampires in space isn't necessarily a bad idea, but it easily falls into the realm of \"cheese\" and this film falls hard. The acting, especially from the vampires, is over the top and I just didn't find the explanations of their existence very convincing. Worst of all, the vampire tribes have the names \"Voorhess\" and \"Leatherfaces\". I understand this was supposed to be a clever reference for the horror fans, but it wasn't clever at all. It just sounded dumb and out of place (unlike the much more subtle references in James Gunn's \"Slither\", such as naming stores after lesser-known horror directors).That's all I want to say. If you can stand lots of cheese (on this day I couldn't and I'm from Wisconsin) and want to see average actors with poor costumes fight vampires in space (although \"space\" looks a lot like any other forest on earth) check this one out, if you can find it. I don't personally recommend this when you can watch other cheesy vampires films (Jon Carpenter's \"Vampires\") or other cheesy space movies. Or maybe even some good ones. But, hey, do your thing.</td>\n",
       "      <td>0</td>\n",
       "    </tr>\n",
       "    <tr>\n",
       "      <th>36287</th>\n",
       "      <td>I expected so much more than what I received from watching this movie. It is not that I object to literary license, (if that is what it should be called) especially when there is no overt attempt to say \"based on a true story.\" But this movie is about Beethoven -- a real historical person who is so widely known and so deeply embedded into our musical experiences and I expected the movie to be true to history at least in the primary elements. This movie took such great exception from the historic record it could only disappoint.My assumption (because I had not researched the movie at all) was that it was true. Half way through, I stopped the movie to look it up on IMDb. The rest of the movie was a remarkably different experience. I was relieved that this was not accurate with history because it was so hard to believe a major portion of the story. To enjoy this movie, I was required to recognize it as a fantasy, a \"what if it was like this\" story. The movie lacked this honest disclaimer.What disappointed me most was the fictionalized conducting of the 9th symphony. The very concept portrayed in the film stretched my imagination to the point of incredulity. I ended up doubting anything was true to history other than Ludwig van Beethoven and his relationship with Karl van Beethoven.I really enjoyed the performance of Ed Harris - an exceptional actor who knows how to play a role and keep himself out of it and that was about it and for that I give it a 3/10.Those who portend that this movie is as good as or better than Amadeus have not a clue about either either composers life and are looking only for what this movie really is, for in the end it was a cheap novel of a story - pulp fiction.</td>\n",
       "      <td>0</td>\n",
       "    </tr>\n",
       "    <tr>\n",
       "      <th>11338</th>\n",
       "      <td>The movie contains a very short scene of Deneuve in a bathtub. She looks absolutely stunning for a lady age 56, but this is the only saving grace of the movie. Otherwise, it has a mindless, unmotivated script and the lead actress has none of Deneuve's appeal. The director apparently watched too many Peter Greenaway films and Pola X comes across as a student's imitation of the Greenaway style, without any of his inspiration.</td>\n",
       "      <td>0</td>\n",
       "    </tr>\n",
       "    <tr>\n",
       "      <th>38130</th>\n",
       "      <td>A friend once asked me to read a screenplay of his that had been optioned by a movie studio. To say it was one of the most inept and insipid scripts I'd ever read would be a bold understatement. Yet I never told him this. Why? Because in a world where films like \"While She Was Out\" can be green-lighted and attract an Oscar- winning star like Kim Basinger, a screenplay lacking in character, content and common sense is no guarantee that it won't sell.As so many other reviewers have pointed out, \"While She Was Out\" is a dreadfully under-written Woman-in-Peril film that has abused housewife Basinger hunted by four unlikely hoods on Christmas Eve. Every gripe is legitimate, from the weak dialog and bad acting to the jaw-dropping lapses of logic, but Basinger is such an interesting actress and the premise is not without promise. Here are a couple of things that struck me:1) I don't care how much we are supposed to think her husband is a jerk, the house IS a mess with toys. Since when did it become child abuse to make kids pick up after themselves?2) Racially diverse gangs are rare everywhere except Hollywood, where they are usually the only racially balanced groups on screen.3) Sure the film is stupid. But so are the countless \"thrillers\" I've sat through where the women are portrayed as wailing, helpless victims of male sadism. Stupid or not, I found it refreshing to see a woman getting the best of her tormentors.4) I LOVED the ending! 5) Though an earlier reviewer coined this phrase, I really DO think this film should be retitled \"The Red Toolbox of Doom.\"</td>\n",
       "      <td>0</td>\n",
       "    </tr>\n",
       "    <tr>\n",
       "      <th>376</th>\n",
       "      <td>Doctor Mordrid is one of those rare films that is completely under the radar, but is totally worthwhile. It really reminds me of the old serials from the 30s and 40s. Which is why I'd have loved to see follow-up movies... but judging by the rest of Full Moon's output there simply weren't enough tits to satisfy the typical audience. Unfortunately, thanks to a completely superfluous sacrifice scene there two too many for a family audience - which is unfortunate, because without em' this could have been a Harry Potter-style magicfest that kids would have eaten up. Both Jeffrey Combs and Yvette Nipar are great - I wasn't sure if Ms. Nipar hadn't wandered off an A-list picture onto this film, she was very believable. No, seriously! Anyway - it's a shame they didn't have the bucks to license Dr. Strange, because I think this could have been a total kiddie phenom.</td>\n",
       "      <td>1</td>\n",
       "    </tr>\n",
       "  </tbody>\n",
       "</table>\n",
       "</div>"
      ],
      "text/plain": [
       "                                                                                                                                                                                                                                                                                                                                                                                                                                                                                                                                                                                                                                                                                                                                                                                                                                                                                                                                                                                                                                                                                                                                                                                                                                                                                                                                                                                                                                                                                                                                                                                                                                                                                                                                                                                                                                                                                                                                                                                                                                                                                                                                                                                           review  \\\n",
       "37028  Man has been to the farthest reaches of the earth and now he is traveling to new worlds. But with new worlds come ancient evils... the vampires of space. And not just a handful but entire tribes. In this film (which I saw as \"Bloodsuckers\" but I guess also goes as \"Vampires Wars\") we see what happens when the imperialist earthlings meet the imperialist vampires.I will make this review very short because it's undeserving of a good review. The best I can say for this film is it has a good cast of b-list and upcoming stars. Natassia Malthe was Quintana, and was far more attractive here than in \"Bloodrayne 2\". Michael Ironside is Muco, and is always a fan favorite (as I say, he's the poor man's Jack Nicholson). And we even get Carrie-Ann Fleming as \"Damian's wife\", who horror fans will now recognize as the eponymous Jenifer from Dario Argento's \"Jenifer\". So this movie, as bad as it is, isn't without some names attached... but the same can be said of Uwe Boll's work.The concept of the military tracking and killing vampires in space isn't necessarily a bad idea, but it easily falls into the realm of \"cheese\" and this film falls hard. The acting, especially from the vampires, is over the top and I just didn't find the explanations of their existence very convincing. Worst of all, the vampire tribes have the names \"Voorhess\" and \"Leatherfaces\". I understand this was supposed to be a clever reference for the horror fans, but it wasn't clever at all. It just sounded dumb and out of place (unlike the much more subtle references in James Gunn's \"Slither\", such as naming stores after lesser-known horror directors).That's all I want to say. If you can stand lots of cheese (on this day I couldn't and I'm from Wisconsin) and want to see average actors with poor costumes fight vampires in space (although \"space\" looks a lot like any other forest on earth) check this one out, if you can find it. I don't personally recommend this when you can watch other cheesy vampires films (Jon Carpenter's \"Vampires\") or other cheesy space movies. Or maybe even some good ones. But, hey, do your thing.   \n",
       "36287  I expected so much more than what I received from watching this movie. It is not that I object to literary license, (if that is what it should be called) especially when there is no overt attempt to say \"based on a true story.\" But this movie is about Beethoven -- a real historical person who is so widely known and so deeply embedded into our musical experiences and I expected the movie to be true to history at least in the primary elements. This movie took such great exception from the historic record it could only disappoint.My assumption (because I had not researched the movie at all) was that it was true. Half way through, I stopped the movie to look it up on IMDb. The rest of the movie was a remarkably different experience. I was relieved that this was not accurate with history because it was so hard to believe a major portion of the story. To enjoy this movie, I was required to recognize it as a fantasy, a \"what if it was like this\" story. The movie lacked this honest disclaimer.What disappointed me most was the fictionalized conducting of the 9th symphony. The very concept portrayed in the film stretched my imagination to the point of incredulity. I ended up doubting anything was true to history other than Ludwig van Beethoven and his relationship with Karl van Beethoven.I really enjoyed the performance of Ed Harris - an exceptional actor who knows how to play a role and keep himself out of it and that was about it and for that I give it a 3/10.Those who portend that this movie is as good as or better than Amadeus have not a clue about either either composers life and are looking only for what this movie really is, for in the end it was a cheap novel of a story - pulp fiction.                                                                                                                                                                                                                                                                                                                                                                                                             \n",
       "11338  The movie contains a very short scene of Deneuve in a bathtub. She looks absolutely stunning for a lady age 56, but this is the only saving grace of the movie. Otherwise, it has a mindless, unmotivated script and the lead actress has none of Deneuve's appeal. The director apparently watched too many Peter Greenaway films and Pola X comes across as a student's imitation of the Greenaway style, without any of his inspiration.                                                                                                                                                                                                                                                                                                                                                                                                                                                                                                                                                                                                                                                                                                                                                                                                                                                                                                                                                                                                                                                                                                                                                                                                                                                                                                                                                                                                                                                                                                                                                                                                                                                                                                                                                  \n",
       "38130  A friend once asked me to read a screenplay of his that had been optioned by a movie studio. To say it was one of the most inept and insipid scripts I'd ever read would be a bold understatement. Yet I never told him this. Why? Because in a world where films like \"While She Was Out\" can be green-lighted and attract an Oscar- winning star like Kim Basinger, a screenplay lacking in character, content and common sense is no guarantee that it won't sell.As so many other reviewers have pointed out, \"While She Was Out\" is a dreadfully under-written Woman-in-Peril film that has abused housewife Basinger hunted by four unlikely hoods on Christmas Eve. Every gripe is legitimate, from the weak dialog and bad acting to the jaw-dropping lapses of logic, but Basinger is such an interesting actress and the premise is not without promise. Here are a couple of things that struck me:1) I don't care how much we are supposed to think her husband is a jerk, the house IS a mess with toys. Since when did it become child abuse to make kids pick up after themselves?2) Racially diverse gangs are rare everywhere except Hollywood, where they are usually the only racially balanced groups on screen.3) Sure the film is stupid. But so are the countless \"thrillers\" I've sat through where the women are portrayed as wailing, helpless victims of male sadism. Stupid or not, I found it refreshing to see a woman getting the best of her tormentors.4) I LOVED the ending! 5) Though an earlier reviewer coined this phrase, I really DO think this film should be retitled \"The Red Toolbox of Doom.\"                                                                                                                                                                                                                                                                                                                                                                                                                                                                                                                                                   \n",
       "376    Doctor Mordrid is one of those rare films that is completely under the radar, but is totally worthwhile. It really reminds me of the old serials from the 30s and 40s. Which is why I'd have loved to see follow-up movies... but judging by the rest of Full Moon's output there simply weren't enough tits to satisfy the typical audience. Unfortunately, thanks to a completely superfluous sacrifice scene there two too many for a family audience - which is unfortunate, because without em' this could have been a Harry Potter-style magicfest that kids would have eaten up. Both Jeffrey Combs and Yvette Nipar are great - I wasn't sure if Ms. Nipar hadn't wandered off an A-list picture onto this film, she was very believable. No, seriously! Anyway - it's a shame they didn't have the bucks to license Dr. Strange, because I think this could have been a total kiddie phenom.                                                                                                                                                                                                                                                                                                                                                                                                                                                                                                                                                                                                                                                                                                                                                                                                                                                                                                                                                                                                                                                                                                                                                                                                                                                                                        \n",
       "\n",
       "       sentiment  \n",
       "37028  0          \n",
       "36287  0          \n",
       "11338  0          \n",
       "38130  0          \n",
       "376    1          "
      ]
     },
     "execution_count": 13,
     "metadata": {},
     "output_type": "execute_result"
    }
   ],
   "source": [
    "df_train.head()"
   ]
  },
  {
   "cell_type": "code",
   "execution_count": 14,
   "metadata": {},
   "outputs": [],
   "source": [
    "y_train = df_train['sentiment']\n",
    "\n",
    "X_train = df_train['review']\n",
    "y_test = df_test['sentiment']\n",
    "X_test = df_test['review']\n"
   ]
  },
  {
   "cell_type": "code",
   "execution_count": null,
   "metadata": {},
   "outputs": [],
   "source": []
  },
  {
   "cell_type": "code",
   "execution_count": 15,
   "metadata": {},
   "outputs": [],
   "source": [
    "max_review_length = 250"
   ]
  },
  {
   "cell_type": "code",
   "execution_count": 16,
   "metadata": {},
   "outputs": [],
   "source": [
    "# X_train = sequence.pad_sequences(X_train.values, maxlen = 500)\n",
    "# X_test = sequence.pad_sequences(X_test)"
   ]
  },
  {
   "cell_type": "code",
   "execution_count": null,
   "metadata": {},
   "outputs": [],
   "source": []
  },
  {
   "cell_type": "code",
   "execution_count": 20,
   "metadata": {},
   "outputs": [],
   "source": [
    "from tensorflow.keras.preprocessing.text import text_to_word_sequence\n",
    "from tensorflow.keras.preprocessing.text import Tokenizer\n",
    "import matplotlib.pyplot as plt"
   ]
  },
  {
   "cell_type": "code",
   "execution_count": 21,
   "metadata": {},
   "outputs": [],
   "source": [
    "tokenizer = Tokenizer(num_words=1000)\n",
    "tokenizer.fit_on_texts(X_train)\n",
    "X_train = tokenizer.texts_to_sequences(X_train)\n",
    "X_train = sequence.pad_sequences(X_train, maxlen=1000)"
   ]
  },
  {
   "cell_type": "code",
   "execution_count": 22,
   "metadata": {},
   "outputs": [],
   "source": [
    "X_test = tokenizer.texts_to_sequences(X_test)\n",
    "X_test = sequence.pad_sequences(X_test, maxlen=1000)"
   ]
  },
  {
   "cell_type": "code",
   "execution_count": 23,
   "metadata": {},
   "outputs": [
    {
     "name": "stdout",
     "output_type": "stream",
     "text": [
      "(35000, 1000)\n",
      "(15000, 1000)\n"
     ]
    }
   ],
   "source": [
    "print(X_train.shape)\n",
    "print(X_test.shape)"
   ]
  },
  {
   "cell_type": "code",
   "execution_count": 24,
   "metadata": {},
   "outputs": [
    {
     "name": "stdout",
     "output_type": "stream",
     "text": [
      "Model: \"sequential\"\n",
      "_________________________________________________________________\n",
      "Layer (type)                 Output Shape              Param #   \n",
      "=================================================================\n",
      "embedding (Embedding)        (None, 1000, 64)          64000     \n",
      "_________________________________________________________________\n",
      "lstm (LSTM)                  (None, 200)               212000    \n",
      "_________________________________________________________________\n",
      "dropout (Dropout)            (None, 200)               0         \n",
      "_________________________________________________________________\n",
      "dense (Dense)                (None, 1)                 201       \n",
      "=================================================================\n",
      "Total params: 276,201\n",
      "Trainable params: 276,201\n",
      "Non-trainable params: 0\n",
      "_________________________________________________________________\n"
     ]
    }
   ],
   "source": [
    "model = Sequential()\n",
    "model.add(Embedding(1000, 64, input_length=X_train.shape[1]))\n",
    "model.add(LSTM(200))\n",
    "model.add(Dropout(0.25))\n",
    "# model.add(Dense(16, activation='relu'))\n",
    "model.add(Dense(1, activation='sigmoid'))\n",
    "\n",
    "model.summary()"
   ]
  },
  {
   "cell_type": "code",
   "execution_count": 25,
   "metadata": {},
   "outputs": [],
   "source": [
    "\n",
    "model.compile(loss='binary_crossentropy', optimizer='adam', metrics=['accuracy'])"
   ]
  },
  {
   "cell_type": "code",
   "execution_count": null,
   "metadata": {},
   "outputs": [
    {
     "name": "stdout",
     "output_type": "stream",
     "text": [
      "Epoch 1/10\n"
     ]
    }
   ],
   "source": [
    "history= model.fit(X_train, y_train, epochs=10, batch_size=1024, validation_data=(X_test, y_test))"
   ]
  },
  {
   "cell_type": "code",
   "execution_count": 19,
   "metadata": {},
   "outputs": [],
   "source": [
    "def plot_history(history):\n",
    "    fig = plt.figure(figsize = (20, 6))\n",
    "    plt.subplot(1, 2, 1)\n",
    "    plt.plot(history.history['acc'], label='Train Acc')\n",
    "    plt.plot(history.history['val_acc'], label='Validation Acc')\n",
    "    plt.title(\"Accuracy\")\n",
    "    plt.legend()\n",
    "    plt.grid()\n",
    "    \n",
    "    plt.subplot(1, 2, 2)\n",
    "    plt.plot(history.history['loss'], label='Train loss')\n",
    "    plt.plot(history.history['val_loss'], label='Validation loss')\n",
    "    plt.title(\"Loss\")\n",
    "    plt.legend()\n",
    "    plt.grid()\n",
    "    \n",
    "    plt.show()"
   ]
  },
  {
   "cell_type": "code",
   "execution_count": 20,
   "metadata": {},
   "outputs": [
    {
     "data": {
      "image/png": "[encoded data removed]",
      "text/plain": [
       "<Figure size 1440x432 with 2 Axes>"
      ]
     },
     "metadata": {
      "needs_background": "light"
     },
     "output_type": "display_data"
    }
   ],
   "source": [
    "plot_history(history)"
   ]
  },
  {
   "cell_type": "code",
   "execution_count": null,
   "metadata": {},
   "outputs": [],
   "source": []
  }
 ],
 "metadata": {
  "kernelspec": {
   "display_name": "Python 3",
   "language": "python",
   "name": "python3"
  },
  "language_info": {
   "codemirror_mode": {
    "name": "ipython",
    "version": 3
   },
   "file_extension": ".py",
   "mimetype": "text/x-python",
   "name": "python",
   "nbconvert_exporter": "python",
   "pygments_lexer": "ipython3",
   "version": "3.6.10"
  }
 },
 "nbformat": 4,
 "nbformat_minor": 4
}
